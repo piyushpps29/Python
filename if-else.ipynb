{
 "cells": [
  {
   "cell_type": "code",
   "execution_count": 6,
   "id": "67a198ab",
   "metadata": {},
   "outputs": [
    {
     "name": "stdout",
     "output_type": "stream",
     "text": [
      "enter the number?111\n",
      "bye\n"
     ]
    }
   ],
   "source": [
    "    num = int(input(\"enter the number?\"))  \n",
    "    if num%2 == 0:  \n",
    "        print(\"Number is even\")\n",
    "    print(\"bye\")\n",
    "        "
   ]
  },
  {
   "cell_type": "code",
   "execution_count": 7,
   "id": "e81e7abc",
   "metadata": {},
   "outputs": [
    {
     "name": "stdout",
     "output_type": "stream",
     "text": [
      "Enter a- 10\n",
      "Enter b- 20\n",
      "Enter c- 15\n",
      "b is largest\n"
     ]
    }
   ],
   "source": [
    "    a = int(input(\"Enter a- \"));  \n",
    "    b = int(input(\"Enter b- \"));  \n",
    "    c = int(input(\"Enter c- \"));  \n",
    "    if a>b and a>c:  \n",
    "        print(\"a is largest\");  \n",
    "    if b>a and b>c:  \n",
    "        print(\"b is largest\");  \n",
    "    if c>a and c>b:  \n",
    "        print(\"c is largest\");  "
   ]
  },
  {
   "cell_type": "code",
   "execution_count": 8,
   "id": "1c9aa697",
   "metadata": {},
   "outputs": [
    {
     "name": "stdout",
     "output_type": "stream",
     "text": [
      "Enter your age? 23\n",
      "You are eligible to vote !!\n"
     ]
    }
   ],
   "source": [
    "    age = int (input(\"Enter your age? \"))  \n",
    "    if age>=18:  \n",
    "        print(\"You are eligible to vote !!\");  \n",
    "    else:  \n",
    "        print(\"Sorry! you have to wait !!\");  "
   ]
  },
  {
   "cell_type": "code",
   "execution_count": 9,
   "id": "0a328395",
   "metadata": {},
   "outputs": [
    {
     "name": "stdout",
     "output_type": "stream",
     "text": [
      "enter the number?23\n",
      "Number is odd...\n"
     ]
    }
   ],
   "source": [
    "    num = int(input(\"enter the number?\"))  \n",
    "    if num%2 == 0:  \n",
    "        print(\"Number is even...\")  \n",
    "    else:  \n",
    "        print(\"Number is odd...\")  "
   ]
  },
  {
   "cell_type": "code",
   "execution_count": 10,
   "id": "11628e55",
   "metadata": {},
   "outputs": [
    {
     "name": "stdout",
     "output_type": "stream",
     "text": [
      "Enter the number?3435\n",
      "number is not equal to 10, 50 or 100\n"
     ]
    }
   ],
   "source": [
    "    number = int(input(\"Enter the number?\"))  \n",
    "    if number==10:  \n",
    "        print(\"number is equals to 10\")  \n",
    "    elif number==50:  \n",
    "        print(\"number is equal to 50\");  \n",
    "    elif number==100:  \n",
    "        print(\"number is equal to 100\");  \n",
    "    else:  \n",
    "        print(\"number is not equal to 10, 50 or 100\");  "
   ]
  },
  {
   "cell_type": "code",
   "execution_count": 12,
   "id": "6b02cacc",
   "metadata": {},
   "outputs": [
    {
     "name": "stdout",
     "output_type": "stream",
     "text": [
      "Enter the number?22\n",
      "number is not equal to 10, 50 or 100\n"
     ]
    }
   ],
   "source": [
    "number = input(\"Enter the number?\")\n",
    "if number==10:  \n",
    "    print(\"number is equals to 10\")  \n",
    "elif number==50:  \n",
    "    print(\"number is equal to 50\");  \n",
    "elif number==100:  \n",
    "    print(\"number is equal to 100\");  \n",
    "else:  \n",
    "    print(\"number is not equal to 10, 50 or 100\");  "
   ]
  },
  {
   "cell_type": "code",
   "execution_count": 14,
   "id": "b6a59f62",
   "metadata": {},
   "outputs": [
    {
     "name": "stdout",
     "output_type": "stream",
     "text": [
      "Enter the marks? 78\n",
      "You scored grade B + ...\n"
     ]
    }
   ],
   "source": [
    "    marks = int(input(\"Enter the marks? \"))  \n",
    "    if marks > 85 and marks <= 100:  \n",
    "       print(\"Congrats ! you scored grade A ...\")  \n",
    "    elif marks > 60 and marks <= 85:  \n",
    "       print(\"You scored grade B + ...\")  \n",
    "    elif marks > 40 and marks <= 60:  \n",
    "       print(\"You scored grade B ...\")  \n",
    "    elif (marks > 30 and marks <= 40):  \n",
    "       print(\"You scored grade C ...\")  \n",
    "    else:  \n",
    "       print(\"Sorry you are fail ?\")  "
   ]
  },
  {
   "cell_type": "code",
   "execution_count": null,
   "id": "095997f5",
   "metadata": {},
   "outputs": [],
   "source": []
  },
  {
   "cell_type": "code",
   "execution_count": null,
   "id": "39540fdf",
   "metadata": {},
   "outputs": [],
   "source": []
  }
 ],
 "metadata": {
  "kernelspec": {
   "display_name": "Python 3",
   "language": "python",
   "name": "python3"
  },
  "language_info": {
   "codemirror_mode": {
    "name": "ipython",
    "version": 3
   },
   "file_extension": ".py",
   "mimetype": "text/x-python",
   "name": "python",
   "nbconvert_exporter": "python",
   "pygments_lexer": "ipython3",
   "version": "3.8.8"
  }
 },
 "nbformat": 4,
 "nbformat_minor": 5
}
