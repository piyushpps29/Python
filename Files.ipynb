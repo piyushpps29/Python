{
 "cells": [
  {
   "cell_type": "code",
   "execution_count": 1,
   "id": "70706d82",
   "metadata": {},
   "outputs": [
    {
     "name": "stdout",
     "output_type": "stream",
     "text": [
      "Python is really a great language, isn't it?\n"
     ]
    }
   ],
   "source": [
    "print (\"Python is really a great language,\", \"isn't it?\")"
   ]
  },
  {
   "cell_type": "code",
   "execution_count": 4,
   "id": "be356047",
   "metadata": {},
   "outputs": [
    {
     "name": "stdout",
     "output_type": "stream",
     "text": [
      "Enter your input: hello\n",
      "Received input is :  hello\n"
     ]
    }
   ],
   "source": [
    "str = input(\"Enter your input: \")\n",
    "print (\"Received input is : \", str)"
   ]
  },
  {
   "cell_type": "code",
   "execution_count": 1,
   "id": "4800f68f",
   "metadata": {},
   "outputs": [
    {
     "name": "stdout",
     "output_type": "stream",
     "text": [
      "Name of the file:  cse7sem.txt\n"
     ]
    }
   ],
   "source": [
    "\n",
    "# Open a file\n",
    "fo = open(\"cse7sem.txt\", \"wb\")\n",
    "print (\"Name of the file: \", fo.name)\n",
    "\n",
    "# Close opend file\n",
    "fo.close()"
   ]
  },
  {
   "cell_type": "code",
   "execution_count": 1,
   "id": "ee78f4df",
   "metadata": {},
   "outputs": [
    {
     "name": "stdout",
     "output_type": "stream",
     "text": [
      "piyush\n"
     ]
    }
   ],
   "source": [
    "f = open(\"cse7sem1.txt\", \"a\")\n",
    "f.write(\"piyush\")\n",
    "f.close()\n",
    "\n",
    "#open and read the file after the appending:\n",
    "f = open(\"cse7sem1.txt\", \"r\")\n",
    "print(f.read()) "
   ]
  },
  {
   "cell_type": "code",
   "execution_count": 9,
   "id": "b7a5909b",
   "metadata": {},
   "outputs": [
    {
     "name": "stdout",
     "output_type": "stream",
     "text": [
      "Read String is :  Hello Stud\n"
     ]
    }
   ],
   "source": [
    "# Open a file\n",
    "fo = open(\"cse7sem.txt\", \"r+\")\n",
    "str = fo.read(10);\n",
    "print (\"Read String is : \", str)\n",
    "# Close opend file\n",
    "fo.close()"
   ]
  },
  {
   "cell_type": "code",
   "execution_count": 10,
   "id": "1b581901",
   "metadata": {},
   "outputs": [
    {
     "name": "stdout",
     "output_type": "stream",
     "text": [
      "Name of the file:  cse7sem.txt\n",
      "Closed or not :  False\n",
      "Opening mode :  wb\n"
     ]
    }
   ],
   "source": [
    "fo = open(\"cse7sem.txt\", \"wb\")\n",
    "print (\"Name of the file: \", fo.name)\n",
    "print (\"Closed or not : \", fo.closed)\n",
    "print (\"Opening mode : \", fo.mode)\n"
   ]
  },
  {
   "cell_type": "code",
   "execution_count": 3,
   "id": "fe626966",
   "metadata": {},
   "outputs": [
    {
     "name": "stdout",
     "output_type": "stream",
     "text": [
      "Read String is :  piyush\n",
      "Current file position :  6\n",
      "Again read String is :  iyush\n",
      "my new string=  \n"
     ]
    }
   ],
   "source": [
    "# Open a file\n",
    "fo = open(\"cse7sem1.txt\", \"r+\")\n",
    "\n",
    "str = fo.read(10)\n",
    "print (\"Read String is : \", str)\n",
    "\n",
    "# Check current position\n",
    "position = fo.tell()\n",
    "print (\"Current file position : \", position)\n",
    "\n",
    "# Reposition pointer at the beginning once again\n",
    "position = fo.seek(1, 0);\n",
    "str = fo.read(7)\n",
    "print (\"Again read String is : \", str)\n",
    "\n",
    "ptr=fo.seek(0,1)\n",
    "str1=fo.read(3)\n",
    "print(\"my new string= \", str1)\n",
    "\n",
    "# Close opened file\n",
    "fo.close()"
   ]
  }
 ],
 "metadata": {
  "kernelspec": {
   "display_name": "Python 3",
   "language": "python",
   "name": "python3"
  },
  "language_info": {
   "codemirror_mode": {
    "name": "ipython",
    "version": 3
   },
   "file_extension": ".py",
   "mimetype": "text/x-python",
   "name": "python",
   "nbconvert_exporter": "python",
   "pygments_lexer": "ipython3",
   "version": "3.8.8"
  }
 },
 "nbformat": 4,
 "nbformat_minor": 5
}
